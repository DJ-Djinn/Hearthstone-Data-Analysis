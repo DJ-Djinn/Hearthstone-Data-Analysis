{
 "cells": [
  {
   "cell_type": "code",
   "execution_count": 5,
   "metadata": {},
   "outputs": [
    {
     "ename": "FileNotFoundError",
     "evalue": "[Errno 2] File b'data/hearthstone_decks.csv' does not exist: b'data/hearthstone_decks.csv'",
     "output_type": "error",
     "traceback": [
      "\u001b[0;31m---------------------------------------------------------------------------\u001b[0m",
      "\u001b[0;31mFileNotFoundError\u001b[0m                         Traceback (most recent call last)",
      "\u001b[0;32m~/Galvanize/Capstones/Capstone1/Hearthstone-Data-Analysis/src/hearthstone_eda.py\u001b[0m in \u001b[0;36m<module>\u001b[0;34m\u001b[0m\n\u001b[1;32m     60\u001b[0m \u001b[0;32mif\u001b[0m \u001b[0m__name__\u001b[0m \u001b[0;34m==\u001b[0m \u001b[0;34m'__main__'\u001b[0m\u001b[0;34m:\u001b[0m\u001b[0;34m\u001b[0m\u001b[0;34m\u001b[0m\u001b[0m\n\u001b[1;32m     61\u001b[0m \u001b[0;34m\u001b[0m\u001b[0m\n\u001b[0;32m---> 62\u001b[0;31m     \u001b[0munclean_df\u001b[0m\u001b[0;34m,\u001b[0m \u001b[0mjson_df\u001b[0m \u001b[0;34m=\u001b[0m \u001b[0mread_data\u001b[0m\u001b[0;34m(\u001b[0m\u001b[0;34m)\u001b[0m\u001b[0;34m\u001b[0m\u001b[0;34m\u001b[0m\u001b[0m\n\u001b[0m\u001b[1;32m     63\u001b[0m     \u001b[0munclean_df\u001b[0m \u001b[0;34m=\u001b[0m \u001b[0mdeck_list_create\u001b[0m\u001b[0;34m(\u001b[0m\u001b[0munclean_df\u001b[0m\u001b[0;34m)\u001b[0m\u001b[0;34m\u001b[0m\u001b[0;34m\u001b[0m\u001b[0m\n\u001b[1;32m     64\u001b[0m     \u001b[0mranked_decks\u001b[0m\u001b[0;34m,\u001b[0m \u001b[0mnone_type\u001b[0m\u001b[0;34m,\u001b[0m \u001b[0mtournament\u001b[0m \u001b[0;34m=\u001b[0m \u001b[0mdeck_dataframe_creation\u001b[0m\u001b[0;34m(\u001b[0m\u001b[0munclean_df\u001b[0m\u001b[0;34m)\u001b[0m\u001b[0;34m\u001b[0m\u001b[0;34m\u001b[0m\u001b[0m\n",
      "\u001b[0;32m~/Galvanize/Capstones/Capstone1/Hearthstone-Data-Analysis/src/hearthstone_eda.py\u001b[0m in \u001b[0;36mread_data\u001b[0;34m()\u001b[0m\n\u001b[1;32m      5\u001b[0m \u001b[0;32mdef\u001b[0m \u001b[0mread_data\u001b[0m\u001b[0;34m(\u001b[0m\u001b[0;34m)\u001b[0m\u001b[0;34m:\u001b[0m\u001b[0;34m\u001b[0m\u001b[0;34m\u001b[0m\u001b[0m\n\u001b[1;32m      6\u001b[0m     \u001b[0;34m'''Initializes the two, uncleaned dataframes'''\u001b[0m\u001b[0;34m\u001b[0m\u001b[0;34m\u001b[0m\u001b[0m\n\u001b[0;32m----> 7\u001b[0;31m     \u001b[0munclean_df\u001b[0m \u001b[0;34m=\u001b[0m \u001b[0mpd\u001b[0m\u001b[0;34m.\u001b[0m\u001b[0mread_csv\u001b[0m\u001b[0;34m(\u001b[0m\u001b[0;34m\"data/hearthstone_decks.csv\"\u001b[0m\u001b[0;34m)\u001b[0m\u001b[0;34m\u001b[0m\u001b[0;34m\u001b[0m\u001b[0m\n\u001b[0m\u001b[1;32m      8\u001b[0m     \u001b[0mjson_df\u001b[0m \u001b[0;34m=\u001b[0m \u001b[0mpd\u001b[0m\u001b[0;34m.\u001b[0m\u001b[0mread_json\u001b[0m\u001b[0;34m(\u001b[0m\u001b[0;34m\"data/refs.json\"\u001b[0m\u001b[0;34m)\u001b[0m\u001b[0;34m\u001b[0m\u001b[0;34m\u001b[0m\u001b[0m\n\u001b[1;32m      9\u001b[0m     \u001b[0;32mreturn\u001b[0m \u001b[0munclean_df\u001b[0m\u001b[0;34m,\u001b[0m \u001b[0mjson_df\u001b[0m\u001b[0;34m\u001b[0m\u001b[0;34m\u001b[0m\u001b[0m\n",
      "\u001b[0;32m/anaconda3/lib/python3.7/site-packages/pandas/io/parsers.py\u001b[0m in \u001b[0;36mparser_f\u001b[0;34m(filepath_or_buffer, sep, delimiter, header, names, index_col, usecols, squeeze, prefix, mangle_dupe_cols, dtype, engine, converters, true_values, false_values, skipinitialspace, skiprows, skipfooter, nrows, na_values, keep_default_na, na_filter, verbose, skip_blank_lines, parse_dates, infer_datetime_format, keep_date_col, date_parser, dayfirst, iterator, chunksize, compression, thousands, decimal, lineterminator, quotechar, quoting, doublequote, escapechar, comment, encoding, dialect, tupleize_cols, error_bad_lines, warn_bad_lines, delim_whitespace, low_memory, memory_map, float_precision)\u001b[0m\n\u001b[1;32m    700\u001b[0m                     skip_blank_lines=skip_blank_lines)\n\u001b[1;32m    701\u001b[0m \u001b[0;34m\u001b[0m\u001b[0m\n\u001b[0;32m--> 702\u001b[0;31m         \u001b[0;32mreturn\u001b[0m \u001b[0m_read\u001b[0m\u001b[0;34m(\u001b[0m\u001b[0mfilepath_or_buffer\u001b[0m\u001b[0;34m,\u001b[0m \u001b[0mkwds\u001b[0m\u001b[0;34m)\u001b[0m\u001b[0;34m\u001b[0m\u001b[0;34m\u001b[0m\u001b[0m\n\u001b[0m\u001b[1;32m    703\u001b[0m \u001b[0;34m\u001b[0m\u001b[0m\n\u001b[1;32m    704\u001b[0m     \u001b[0mparser_f\u001b[0m\u001b[0;34m.\u001b[0m\u001b[0m__name__\u001b[0m \u001b[0;34m=\u001b[0m \u001b[0mname\u001b[0m\u001b[0;34m\u001b[0m\u001b[0;34m\u001b[0m\u001b[0m\n",
      "\u001b[0;32m/anaconda3/lib/python3.7/site-packages/pandas/io/parsers.py\u001b[0m in \u001b[0;36m_read\u001b[0;34m(filepath_or_buffer, kwds)\u001b[0m\n\u001b[1;32m    427\u001b[0m \u001b[0;34m\u001b[0m\u001b[0m\n\u001b[1;32m    428\u001b[0m     \u001b[0;31m# Create the parser.\u001b[0m\u001b[0;34m\u001b[0m\u001b[0;34m\u001b[0m\u001b[0;34m\u001b[0m\u001b[0m\n\u001b[0;32m--> 429\u001b[0;31m     \u001b[0mparser\u001b[0m \u001b[0;34m=\u001b[0m \u001b[0mTextFileReader\u001b[0m\u001b[0;34m(\u001b[0m\u001b[0mfilepath_or_buffer\u001b[0m\u001b[0;34m,\u001b[0m \u001b[0;34m**\u001b[0m\u001b[0mkwds\u001b[0m\u001b[0;34m)\u001b[0m\u001b[0;34m\u001b[0m\u001b[0;34m\u001b[0m\u001b[0m\n\u001b[0m\u001b[1;32m    430\u001b[0m \u001b[0;34m\u001b[0m\u001b[0m\n\u001b[1;32m    431\u001b[0m     \u001b[0;32mif\u001b[0m \u001b[0mchunksize\u001b[0m \u001b[0;32mor\u001b[0m \u001b[0miterator\u001b[0m\u001b[0;34m:\u001b[0m\u001b[0;34m\u001b[0m\u001b[0;34m\u001b[0m\u001b[0m\n",
      "\u001b[0;32m/anaconda3/lib/python3.7/site-packages/pandas/io/parsers.py\u001b[0m in \u001b[0;36m__init__\u001b[0;34m(self, f, engine, **kwds)\u001b[0m\n\u001b[1;32m    893\u001b[0m             \u001b[0mself\u001b[0m\u001b[0;34m.\u001b[0m\u001b[0moptions\u001b[0m\u001b[0;34m[\u001b[0m\u001b[0;34m'has_index_names'\u001b[0m\u001b[0;34m]\u001b[0m \u001b[0;34m=\u001b[0m \u001b[0mkwds\u001b[0m\u001b[0;34m[\u001b[0m\u001b[0;34m'has_index_names'\u001b[0m\u001b[0;34m]\u001b[0m\u001b[0;34m\u001b[0m\u001b[0;34m\u001b[0m\u001b[0m\n\u001b[1;32m    894\u001b[0m \u001b[0;34m\u001b[0m\u001b[0m\n\u001b[0;32m--> 895\u001b[0;31m         \u001b[0mself\u001b[0m\u001b[0;34m.\u001b[0m\u001b[0m_make_engine\u001b[0m\u001b[0;34m(\u001b[0m\u001b[0mself\u001b[0m\u001b[0;34m.\u001b[0m\u001b[0mengine\u001b[0m\u001b[0;34m)\u001b[0m\u001b[0;34m\u001b[0m\u001b[0;34m\u001b[0m\u001b[0m\n\u001b[0m\u001b[1;32m    896\u001b[0m \u001b[0;34m\u001b[0m\u001b[0m\n\u001b[1;32m    897\u001b[0m     \u001b[0;32mdef\u001b[0m \u001b[0mclose\u001b[0m\u001b[0;34m(\u001b[0m\u001b[0mself\u001b[0m\u001b[0;34m)\u001b[0m\u001b[0;34m:\u001b[0m\u001b[0;34m\u001b[0m\u001b[0;34m\u001b[0m\u001b[0m\n",
      "\u001b[0;32m/anaconda3/lib/python3.7/site-packages/pandas/io/parsers.py\u001b[0m in \u001b[0;36m_make_engine\u001b[0;34m(self, engine)\u001b[0m\n\u001b[1;32m   1120\u001b[0m     \u001b[0;32mdef\u001b[0m \u001b[0m_make_engine\u001b[0m\u001b[0;34m(\u001b[0m\u001b[0mself\u001b[0m\u001b[0;34m,\u001b[0m \u001b[0mengine\u001b[0m\u001b[0;34m=\u001b[0m\u001b[0;34m'c'\u001b[0m\u001b[0;34m)\u001b[0m\u001b[0;34m:\u001b[0m\u001b[0;34m\u001b[0m\u001b[0;34m\u001b[0m\u001b[0m\n\u001b[1;32m   1121\u001b[0m         \u001b[0;32mif\u001b[0m \u001b[0mengine\u001b[0m \u001b[0;34m==\u001b[0m \u001b[0;34m'c'\u001b[0m\u001b[0;34m:\u001b[0m\u001b[0;34m\u001b[0m\u001b[0;34m\u001b[0m\u001b[0m\n\u001b[0;32m-> 1122\u001b[0;31m             \u001b[0mself\u001b[0m\u001b[0;34m.\u001b[0m\u001b[0m_engine\u001b[0m \u001b[0;34m=\u001b[0m \u001b[0mCParserWrapper\u001b[0m\u001b[0;34m(\u001b[0m\u001b[0mself\u001b[0m\u001b[0;34m.\u001b[0m\u001b[0mf\u001b[0m\u001b[0;34m,\u001b[0m \u001b[0;34m**\u001b[0m\u001b[0mself\u001b[0m\u001b[0;34m.\u001b[0m\u001b[0moptions\u001b[0m\u001b[0;34m)\u001b[0m\u001b[0;34m\u001b[0m\u001b[0;34m\u001b[0m\u001b[0m\n\u001b[0m\u001b[1;32m   1123\u001b[0m         \u001b[0;32melse\u001b[0m\u001b[0;34m:\u001b[0m\u001b[0;34m\u001b[0m\u001b[0;34m\u001b[0m\u001b[0m\n\u001b[1;32m   1124\u001b[0m             \u001b[0;32mif\u001b[0m \u001b[0mengine\u001b[0m \u001b[0;34m==\u001b[0m \u001b[0;34m'python'\u001b[0m\u001b[0;34m:\u001b[0m\u001b[0;34m\u001b[0m\u001b[0;34m\u001b[0m\u001b[0m\n",
      "\u001b[0;32m/anaconda3/lib/python3.7/site-packages/pandas/io/parsers.py\u001b[0m in \u001b[0;36m__init__\u001b[0;34m(self, src, **kwds)\u001b[0m\n\u001b[1;32m   1851\u001b[0m         \u001b[0mkwds\u001b[0m\u001b[0;34m[\u001b[0m\u001b[0;34m'usecols'\u001b[0m\u001b[0;34m]\u001b[0m \u001b[0;34m=\u001b[0m \u001b[0mself\u001b[0m\u001b[0;34m.\u001b[0m\u001b[0musecols\u001b[0m\u001b[0;34m\u001b[0m\u001b[0;34m\u001b[0m\u001b[0m\n\u001b[1;32m   1852\u001b[0m \u001b[0;34m\u001b[0m\u001b[0m\n\u001b[0;32m-> 1853\u001b[0;31m         \u001b[0mself\u001b[0m\u001b[0;34m.\u001b[0m\u001b[0m_reader\u001b[0m \u001b[0;34m=\u001b[0m \u001b[0mparsers\u001b[0m\u001b[0;34m.\u001b[0m\u001b[0mTextReader\u001b[0m\u001b[0;34m(\u001b[0m\u001b[0msrc\u001b[0m\u001b[0;34m,\u001b[0m \u001b[0;34m**\u001b[0m\u001b[0mkwds\u001b[0m\u001b[0;34m)\u001b[0m\u001b[0;34m\u001b[0m\u001b[0;34m\u001b[0m\u001b[0m\n\u001b[0m\u001b[1;32m   1854\u001b[0m         \u001b[0mself\u001b[0m\u001b[0;34m.\u001b[0m\u001b[0munnamed_cols\u001b[0m \u001b[0;34m=\u001b[0m \u001b[0mself\u001b[0m\u001b[0;34m.\u001b[0m\u001b[0m_reader\u001b[0m\u001b[0;34m.\u001b[0m\u001b[0munnamed_cols\u001b[0m\u001b[0;34m\u001b[0m\u001b[0;34m\u001b[0m\u001b[0m\n\u001b[1;32m   1855\u001b[0m \u001b[0;34m\u001b[0m\u001b[0m\n",
      "\u001b[0;32mpandas/_libs/parsers.pyx\u001b[0m in \u001b[0;36mpandas._libs.parsers.TextReader.__cinit__\u001b[0;34m()\u001b[0m\n",
      "\u001b[0;32mpandas/_libs/parsers.pyx\u001b[0m in \u001b[0;36mpandas._libs.parsers.TextReader._setup_parser_source\u001b[0;34m()\u001b[0m\n",
      "\u001b[0;31mFileNotFoundError\u001b[0m: [Errno 2] File b'data/hearthstone_decks.csv' does not exist: b'data/hearthstone_decks.csv'"
     ]
    }
   ],
   "source": [
    "run ../src/hearthstone_eda.py"
   ]
  },
  {
   "cell_type": "code",
   "execution_count": 2,
   "metadata": {},
   "outputs": [
    {
     "ename": "NameError",
     "evalue": "name 'ranked_decks' is not defined",
     "output_type": "error",
     "traceback": [
      "\u001b[0;31m---------------------------------------------------------------------------\u001b[0m",
      "\u001b[0;31mNameError\u001b[0m                                 Traceback (most recent call last)",
      "\u001b[0;32m<ipython-input-2-61ce44ffa52b>\u001b[0m in \u001b[0;36m<module>\u001b[0;34m\u001b[0m\n\u001b[0;32m----> 1\u001b[0;31m \u001b[0mclass_names\u001b[0m \u001b[0;34m=\u001b[0m \u001b[0mlist\u001b[0m\u001b[0;34m(\u001b[0m\u001b[0mranked_decks\u001b[0m\u001b[0;34m[\u001b[0m\u001b[0;34m'deck_class'\u001b[0m\u001b[0;34m]\u001b[0m\u001b[0;34m.\u001b[0m\u001b[0munique\u001b[0m\u001b[0;34m(\u001b[0m\u001b[0;34m)\u001b[0m\u001b[0;34m)\u001b[0m\u001b[0;34m\u001b[0m\u001b[0;34m\u001b[0m\u001b[0m\n\u001b[0m",
      "\u001b[0;31mNameError\u001b[0m: name 'ranked_decks' is not defined"
     ]
    }
   ],
   "source": [
    "class_names = list(ranked_decks['deck_class'].unique())"
   ]
  },
  {
   "cell_type": "code",
   "execution_count": null,
   "metadata": {},
   "outputs": [],
   "source": [
    "plt.style.use('ggplot')"
   ]
  },
  {
   "cell_type": "code",
   "execution_count": null,
   "metadata": {},
   "outputs": [],
   "source": [
    "font = {'family' : 'normal',\n",
    "        'size'   : 12}\n",
    "\n",
    "plt.rc('font', **font)"
   ]
  },
  {
   "cell_type": "code",
   "execution_count": null,
   "metadata": {},
   "outputs": [],
   "source": [
    "class_colors = {\n",
    "        'Druid' : 'limegreen',\n",
    "        'Paladin' : 'gold',\n",
    "        'Mage' : 'cornflowerblue',\n",
    "        'Warlock' : 'mediumpurple',\n",
    "        'Warrior' : 'maroon',\n",
    "        'Shaman' : 'teal',\n",
    "        'Rogue' : 'grey',\n",
    "        'Priest' : 'ivory',\n",
    "        'Hunter' : 'darkgreen',\n",
    "        'Neutral' : 'black'\n",
    "    }"
   ]
  },
  {
   "cell_type": "code",
   "execution_count": null,
   "metadata": {},
   "outputs": [],
   "source": [
    "deck_set_event_list = [#'Beta Release', 'Beta Patch 3664', 'Beta Patch 3749', 'Beta Patch 3937',\n",
    "                       #'Beta Patch 4217', 'Beta Patch 4243', 'Beta Patch 4482', 'Beta Patch 4944',\n",
    "                       #'Live Patch 4973', 'Live Patch 5170', 'Live Patch 5435', \n",
    "                       'Live Patch 5506',\n",
    "                       'Naxx Launch', 'GvG Prelaunch', 'GvG Launch', 'Undertaker Nerf', \n",
    "                       'Blackrock Launch', 'TGT Launch', 'Warsong Nerf', 'Explorers', \n",
    "                       'Classic Nerfs', 'Old Gods', 'Karazhan', 'Yogg Nerf',\n",
    "                       'Gadgetzan', 'Aggro Downfall'\n",
    "                      ]"
   ]
  },
  {
   "cell_type": "code",
   "execution_count": null,
   "metadata": {},
   "outputs": [],
   "source": [
    "#fig, ax = plt.subplots(figsize=(10, 6))\n",
    "#ax.hist((ranked_decks_2014[ranked_decks_2014['deck_class'] == 'Mage'].count()['date']))"
   ]
  },
  {
   "cell_type": "code",
   "execution_count": null,
   "metadata": {},
   "outputs": [],
   "source": [
    "#fig, ax = plt.subplots(figsize=(10, 6))\n",
    "\n",
    "#ax.plot(class_names, ranked_decks_2014.groupby('deck_class').agg({'deck_class' : 'count'}))\n",
    "#ax.plot(class_names, ranked_decks_2015.groupby('deck_class').agg({'deck_class' : 'count'}))\n",
    "#ax.plot(class_names, ranked_decks_2016.groupby('deck_class').agg({'deck_class' : 'count'}))\n",
    "#ax.plot(class_names, ranked_decks_2017.groupby('deck_class').agg({'deck_class' : 'count'}))"
   ]
  },
  {
   "cell_type": "code",
   "execution_count": null,
   "metadata": {},
   "outputs": [],
   "source": [
    "fig, ax = plt.subplots(figsize=(16,6))\n",
    "for patch in deck_set_event_list:\n",
    "    ax.bar(patch, ranked_decks[ranked_decks['deck_set'] == patch].count()['date'])\n",
    "    ax.set_xticks(np.arange(0, len(deck_set_event_list)))\n",
    "    ax.set_xticklabels(deck_set_event_list, rotation=90)\n",
    "    \n",
    "plt.tight_layout()\n",
    "plt.savefig(\"img/decks_per_patch.png\")"
   ]
  },
  {
   "cell_type": "code",
   "execution_count": null,
   "metadata": {},
   "outputs": [],
   "source": [
    "fig, axs = plt.subplots(9, 1, figsize=(16,54))\n",
    "for idx, ax in enumerate(axs.flatten()):\n",
    "    for patch in deck_set_event_list:\n",
    "        deck_condit = ranked_decks['deck_class'] == class_names[idx]\n",
    "        patch_condit = ranked_decks['deck_set'] == patch\n",
    "        ax.bar(patch, height=ranked_decks[deck_condit & patch_condit].count()['date'])\n",
    "        ax.set_xticks(np.arange(0, len(deck_set_event_list)))\n",
    "        ax.set_xticklabels(deck_set_event_list, rotation=25)\n",
    "        ax.set_title(class_names[idx])\n",
    "        ax.set_ylim(0, 4500)\n",
    "plt.tight_layout()\n",
    "plt.savefig(\"img/class_pop_per_patch.png\")"
   ]
  },
  {
   "cell_type": "code",
   "execution_count": null,
   "metadata": {},
   "outputs": [],
   "source": [
    "class_pop_ls = []\n",
    "for cls in class_names:\n",
    "    cls_ls = []\n",
    "    class_condit = ranked_decks['deck_class'] == cls\n",
    "    for patch in deck_set_event_list:\n",
    "        patch_condit = ranked_decks['deck_set'] == patch\n",
    "        cls_ls.append(ranked_decks[patch_condit & class_condit].count()['date'])\n",
    "    class_pop_ls.append(cls_ls)"
   ]
  },
  {
   "cell_type": "code",
   "execution_count": null,
   "metadata": {},
   "outputs": [],
   "source": [
    "class_pop_df = pd.DataFrame(class_pop_ls, columns=deck_set_event_list)\n",
    "class_pop_df['Class'] = class_names\n",
    "max_ls = []\n",
    "for col in deck_set_event_list:\n",
    "    max_ls.append(class_pop_df[col].max())\n",
    "    \n",
    "class_max = []\n",
    "for idx, num in enumerate(max_ls):\n",
    "    class_max.append(class_pop_df[class_pop_df[deck_set_event_list[idx]] == max_ls[idx]]['Class'])\n",
    "    \n",
    "class_max_name = []\n",
    "for num in range(len(class_max)):\n",
    "    class_max_name.append((class_max[num].all(), max_ls[num]))"
   ]
  },
  {
   "cell_type": "code",
   "execution_count": null,
   "metadata": {},
   "outputs": [],
   "source": [
    "class_max = [x[1] for x in class_max_name]\n",
    "class_name_max = [x[0] for x in class_max_name]"
   ]
  },
  {
   "cell_type": "code",
   "execution_count": null,
   "metadata": {},
   "outputs": [],
   "source": [
    "fig, ax = plt.subplots(figsize=(16,6))\n",
    "i=0\n",
    "for pair in class_max_name:\n",
    "    patch = deck_set_event_list[i]\n",
    "    deck_condit = ranked_decks['deck_class'] == pair[0]\n",
    "    patch_condit = ranked_decks['deck_set'] == patch\n",
    "    ax.bar(patch, pair[1])\n",
    "    #ax.annotate('{}'.format(pair[0]), xy=(patch, pair[1]), weight=\"bold\")\n",
    "    i+=1\n",
    "ax.set_xticks(np.arange(0, len(deck_set_event_list)))\n",
    "ax.set_xticklabels(deck_set_event_list, rotation=90)\n",
    "ax.set_ylim(0, 4500)\n",
    "rects = ax.patches\n",
    "\n",
    "labels = class_name_max\n",
    "for rect, label in zip(rects, labels):\n",
    "    rect.set_color(class_colors[label])\n",
    "    height = rect.get_height()\n",
    "    ax.text(rect.get_x() + rect.get_width() / 2, height + 5, label,\n",
    "            ha='center', va='bottom', weight='bold')\n",
    "plt.tight_layout()\n",
    "plt.savefig('img/most_popular_class_per_patch.png')"
   ]
  },
  {
   "cell_type": "code",
   "execution_count": null,
   "metadata": {},
   "outputs": [],
   "source": [
    "min_ls = []\n",
    "for col in deck_set_event_list:\n",
    "    min_ls.append(class_pop_df[col].min())\n",
    "    \n",
    "class_min = []\n",
    "for idx, num in enumerate(min_ls):\n",
    "    class_min.append(class_pop_df[class_pop_df[deck_set_event_list[idx]] == min_ls[idx]]['Class'])\n",
    "    \n",
    "class_min_name = []\n",
    "for num in range(len(class_min)):\n",
    "    class_min_name.append((class_min[num].all(), min_ls[num]))\n",
    "\n",
    "class_min = [x[1] for x in class_min_name]\n",
    "class_name_min = [x[0] for x in class_min_name]"
   ]
  },
  {
   "cell_type": "code",
   "execution_count": null,
   "metadata": {},
   "outputs": [],
   "source": [
    "fig, ax = plt.subplots(figsize=(16,6))\n",
    "i=0\n",
    "for pair in class_min_name:\n",
    "    patch = deck_set_event_list[i]\n",
    "    deck_condit = ranked_decks['deck_class'] == pair[0]\n",
    "    patch_condit = ranked_decks['deck_set'] == patch\n",
    "    ax.bar(patch, height=pair[1])\n",
    "    #ax.annotate('{}'.format(pair[0]), xy=(patch, pair[1]), weight=\"bold\")\n",
    "    i+=1\n",
    "ax.set_xticks(np.arange(0, len(deck_set_event_list)))\n",
    "ax.set_xticklabels(deck_set_event_list, rotation=90)\n",
    "ax.set_ylim(0, 4500)\n",
    "rects = ax.patches\n",
    "labels = class_name_min\n",
    "for rect, label in zip(rects, labels):\n",
    "    rect.set_color(class_colors[label])\n",
    "    height = rect.get_height()\n",
    "    ax.text(rect.get_x() + rect.get_width() / 2, height + 5, label,\n",
    "            ha='center', va='bottom', weight='bold')\n",
    "plt.tight_layout()\n",
    "plt.savefig('img/least_popular_class_per_patch.png')"
   ]
  },
  {
   "cell_type": "code",
   "execution_count": null,
   "metadata": {},
   "outputs": [],
   "source": [
    "max_ls = []\n",
    "for col in deck_set_event_list:\n",
    "    max_ls.append(class_pop_df[col].max())"
   ]
  },
  {
   "cell_type": "code",
   "execution_count": null,
   "metadata": {},
   "outputs": [],
   "source": [
    "class_max = []\n",
    "for idx, num in enumerate(max_ls):\n",
    "    class_max.append(class_pop_df[class_pop_df[deck_set_event_list[idx]] == max_ls[idx]]['Class'])"
   ]
  },
  {
   "cell_type": "code",
   "execution_count": null,
   "metadata": {},
   "outputs": [],
   "source": [
    "class_max_name = []\n",
    "for num in range(len(class_max)):\n",
    "    class_max_name.append((class_max[num].all(), max_ls[num]))"
   ]
  },
  {
   "cell_type": "code",
   "execution_count": null,
   "metadata": {},
   "outputs": [],
   "source": [
    "ranked_decks_standard = ranked_decks[ranked_decks['deck_format'] == 'S']"
   ]
  },
  {
   "cell_type": "code",
   "execution_count": null,
   "metadata": {},
   "outputs": [],
   "source": [
    "highest_rated_standard_decks = ranked_decks_standard.groupby('deck_set').agg({'rating' : 'max'})"
   ]
  },
  {
   "cell_type": "code",
   "execution_count": null,
   "metadata": {},
   "outputs": [],
   "source": [
    "deck_rating = []\n",
    "for event in deck_set_event_list:\n",
    "    deck_rating.append((event, ranked_decks[ranked_decks['deck_set'] == event]['rating'].max()))"
   ]
  },
  {
   "cell_type": "code",
   "execution_count": null,
   "metadata": {},
   "outputs": [],
   "source": [
    "deck_info_ls = []\n",
    "for pair in deck_rating:\n",
    "    rate_condit = ranked_decks['rating'] == pair[1]\n",
    "    patch_condit = ranked_decks['deck_set'] == pair[0]\n",
    "    deck_info_ls.append(ranked_decks[rate_condit & patch_condit])"
   ]
  },
  {
   "cell_type": "code",
   "execution_count": null,
   "metadata": {},
   "outputs": [],
   "source": [
    "deck_pop_title = []\n",
    "for df in deck_info_ls:\n",
    "    deck_pop_title.append(df['title'])"
   ]
  },
  {
   "cell_type": "code",
   "execution_count": null,
   "metadata": {},
   "outputs": [],
   "source": [
    "deck_pop_rate = []\n",
    "for df in deck_info_ls:\n",
    "    deck_pop_rate.append(df['rating'])"
   ]
  },
  {
   "cell_type": "code",
   "execution_count": null,
   "metadata": {},
   "outputs": [],
   "source": [
    "deck_pop_name = []\n",
    "for num in range(len(deck_pop_title)):\n",
    "    deck_pop_name.append((deck_pop_title[num].all(), deck_pop_rate[num].get_values()[0]))\n"
   ]
  },
  {
   "cell_type": "code",
   "execution_count": null,
   "metadata": {},
   "outputs": [],
   "source": [
    "deck_name = ['Crusher Shaman',\n",
    " 'Midrange Hunter',\n",
    " 'Handlock',\n",
    " 'Mech Mage',\n",
    " \"Mech Shaman\",\n",
    " 'Arcane Giant Patron OTK',\n",
    " 'Midrange Totem Shaman',\n",
    " 'Burst Rogue',\n",
    " \"Dragonz'rilla\",\n",
    " \"C'Thun Druid\",\n",
    " \"C'thun priest\",\n",
    " 'Purify Priest',\n",
    " 'Pirate Warrior',\n",
    " 'Midrange Jade Lotus',\n",
    " 'Jade Shaman']"
   ]
  },
  {
   "cell_type": "code",
   "execution_count": null,
   "metadata": {},
   "outputs": [],
   "source": [
    "fig, ax = plt.subplots(figsize=(16,6))\n",
    "i=0\n",
    "for pair in deck_pop_name:\n",
    "    patch = deck_set_event_list[i]\n",
    "    ax.bar(patch, height=pair[1])\n",
    "    i+=1\n",
    "ax.set_xticks(np.arange(0, len(deck_set_event_list)))\n",
    "ax.set_xticklabels(deck_set_event_list, rotation=90)\n",
    "ax.set_ylim(0, 2000)\n",
    "rects = ax.patches\n",
    "\n",
    "labels = ['Shaman', 'Hunter', 'Warlock', 'Mage', \n",
    "          'Shaman', 'Warrior', 'Shaman', 'Rogue',\n",
    "          'Hunter', 'Druid', 'Priest', 'Priest',\n",
    "          'Warrior', 'Druid', 'Shaman']\n",
    "i = 0\n",
    "for rect, label in zip(rects, labels):\n",
    "    rect.set_color(class_colors[label])\n",
    "    height = rect.get_height()\n",
    "    ax.text(rect.get_x() + rect.get_width() / 2, height + 5, deck_name[i],\n",
    "            ha='center', va='bottom', weight='bold')\n",
    "    i += 1\n",
    "plt.tight_layout()\n",
    "plt.savefig('img/most_popular_deck_per_patch.png')"
   ]
  },
  {
   "cell_type": "code",
   "execution_count": null,
   "metadata": {},
   "outputs": [],
   "source": [
    "ranked_submissions_month_2014 = ranked_decks_2014.groupby('month').agg({'title' : 'count'})\n",
    "ranked_submissions_month_2015 = ranked_decks_2015.groupby('month').agg({'title' : 'count'})\n",
    "ranked_submissions_month_2016 = ranked_decks_2016.groupby('month').agg({'title' : 'count'})\n",
    "ranked_submissions_month_2017 = ranked_decks_2017.groupby('month').agg({'title' : 'count'})"
   ]
  },
  {
   "cell_type": "code",
   "execution_count": null,
   "metadata": {},
   "outputs": [],
   "source": [
    "arr_2014 = np.array(ranked_submissions_month_2014['title'])\n",
    "arr_2015 = np.append(arr_2014, ranked_submissions_month_2015['title'])\n",
    "arr_2016 = np.append(arr_2015, ranked_submissions_month_2016['title'])\n",
    "arr_all = np.append(arr_2016, ranked_submissions_month_2017['title'])"
   ]
  },
  {
   "cell_type": "code",
   "execution_count": null,
   "metadata": {},
   "outputs": [],
   "source": [
    "months = ['January', 'February', 'March', 'April', 'May', 'June', 'July', 'August',\n",
    "         'September', 'October', 'November', 'December']\n",
    "arr_ls = [arr_2014, arr_2015, arr_2016]"
   ]
  },
  {
   "cell_type": "code",
   "execution_count": null,
   "metadata": {},
   "outputs": [],
   "source": [
    "fig, axs = plt.subplots(3, 1, figsize=(12, 18))\n",
    "year = 4\n",
    "for idx, ax in enumerate(axs.flatten()):\n",
    "    ax.bar(months, arr_ls[idx][-12:])\n",
    "    ax.set_xticks(np.arange(0, 12))\n",
    "    ax.set_xticklabels(months, rotation=25)\n",
    "    ax.set_title('201{}'.format(year))\n",
    "    ax.set_ylim(0, 14500)\n",
    "    year +=1\n",
    "plt.tight_layout()\n",
    "plt.savefig('img/deck_uploads_per_year.png')"
   ]
  },
  {
   "cell_type": "code",
   "execution_count": null,
   "metadata": {},
   "outputs": [],
   "source": [
    "#img = plt.imread(\"img/hunter.png\")\n",
    "#implot = plt.imshow(img)\n",
    "#plt.show()"
   ]
  },
  {
   "cell_type": "code",
   "execution_count": null,
   "metadata": {},
   "outputs": [],
   "source": [
    "set_uploads_df = ranked_decks.groupby('deck_set').agg({'title' : 'count'})"
   ]
  },
  {
   "cell_type": "code",
   "execution_count": null,
   "metadata": {},
   "outputs": [],
   "source": [
    "set_uploads_cols = set(set_uploads_df.index)"
   ]
  },
  {
   "cell_type": "code",
   "execution_count": null,
   "metadata": {},
   "outputs": [],
   "source": [
    "deck_set_event_set = set(deck_set_event_list)"
   ]
  },
  {
   "cell_type": "code",
   "execution_count": null,
   "metadata": {},
   "outputs": [],
   "source": [
    "removal_sets = set_uploads_cols.difference(deck_set_event_set)"
   ]
  },
  {
   "cell_type": "code",
   "execution_count": null,
   "metadata": {},
   "outputs": [],
   "source": [
    "set_uploads_df.drop(removal_sets, inplace=True)"
   ]
  },
  {
   "cell_type": "code",
   "execution_count": null,
   "metadata": {},
   "outputs": [],
   "source": [
    "set_uploads_ls = []\n",
    "for event in deck_set_event_list:\n",
    "    set_uploads_ls.append(set_uploads_df.title[event])"
   ]
  },
  {
   "cell_type": "code",
   "execution_count": null,
   "metadata": {},
   "outputs": [],
   "source": [
    "fig, ax = plt.subplots(figsize=(12,6))\n",
    "\n",
    "ax.bar(deck_set_event_list, set_uploads_ls)\n",
    "ax.set_xticks(np.arange(0, len(deck_set_event_list)))\n",
    "ax.set_xticklabels(deck_set_event_list, rotation=90)\n",
    "plt.tight_layout()\n",
    "plt.savefig('img/deck_uploads_per_patch.png')"
   ]
  },
  {
   "cell_type": "code",
   "execution_count": null,
   "metadata": {},
   "outputs": [],
   "source": [
    "ls = [1, 2, 3, 4, 5, 6, 7, 8, 9, 10, 11, 12,\n",
    "      1, 2, 3, 4, 5, 6, 7, 8, 9, 10, 11, 12,\n",
    "      1, 2, 3, 4, 5, 6, 7, 8, 9, 10, 11, 12,\n",
    "      1, 2, 3]\n",
    "months = {1 : 'January', 2 : 'February', 3 : 'March', 4 : 'April', 5 : 'May', 6 : 'June', 7 : 'July', 8 : 'August',\n",
    "         9 : 'September', 10 : 'October', 11 : 'November', 12 : 'December'}"
   ]
  },
  {
   "cell_type": "code",
   "execution_count": 3,
   "metadata": {},
   "outputs": [
    {
     "ename": "NameError",
     "evalue": "name 'ls' is not defined",
     "output_type": "error",
     "traceback": [
      "\u001b[0;31m---------------------------------------------------------------------------\u001b[0m",
      "\u001b[0;31mNameError\u001b[0m                                 Traceback (most recent call last)",
      "\u001b[0;32m<ipython-input-3-10e7f95896af>\u001b[0m in \u001b[0;36m<module>\u001b[0;34m\u001b[0m\n\u001b[0;32m----> 1\u001b[0;31m \u001b[0mmonth_names\u001b[0m \u001b[0;34m=\u001b[0m \u001b[0;34m[\u001b[0m\u001b[0mmonths\u001b[0m\u001b[0;34m[\u001b[0m\u001b[0mx\u001b[0m\u001b[0;34m]\u001b[0m \u001b[0;32mfor\u001b[0m \u001b[0mx\u001b[0m \u001b[0;32min\u001b[0m \u001b[0mls\u001b[0m\u001b[0;34m]\u001b[0m\u001b[0;34m\u001b[0m\u001b[0;34m\u001b[0m\u001b[0m\n\u001b[0m",
      "\u001b[0;31mNameError\u001b[0m: name 'ls' is not defined"
     ]
    }
   ],
   "source": [
    "month_names = [months[x] for x in ls]"
   ]
  },
  {
   "cell_type": "code",
   "execution_count": null,
   "metadata": {
    "scrolled": false
   },
   "outputs": [],
   "source": [
    "num_months = np.arange(1, 40)\n",
    "\n",
    "fig, ax = plt.subplots(figsize=(12, 6))\n",
    "\n",
    "ax.bar(num_months, arr_all)\n",
    "ax.set_xticks(np.arange(1, 40))\n",
    "ax.set_xticklabels(month_names, rotation=90)\n",
    "ax.set_title('Lifetime uploads')\n",
    "ax.set_ylim(0, 14500)\n",
    "plt.tight_layout()\n",
    "plt.savefig('img/deck_uploads_all_time.png')"
   ]
  },
  {
   "cell_type": "code",
   "execution_count": null,
   "metadata": {},
   "outputs": [],
   "source": [
    "deck_set_event_dict = {#'Beta Release', 'Beta Patch 3664', 'Beta Patch 3749', 'Beta Patch 3937',\n",
    "                       #'Beta Patch 4217', 'Beta Patch 4243', 'Beta Patch 4482', 'Beta Patch 4944',\n",
    "                       #'Live Patch 4973', 'Live Patch 5170', 'Live Patch 5435', \n",
    "                       'Live Patch 5506' : 3,\n",
    "                       'Naxx Launch' : 7, 'GvG Prelaunch' : 11, 'GvG Launch' : 12, 'Undertaker Nerf' : 13, \n",
    "                       'Blackrock Launch' : 16, 'TGT Launch' : 21, 'Warsong Nerf' : 22, 'Explorers' : 23, \n",
    "                       'Classic Nerfs' : 28, 'Old Gods' : 29, 'Karazhan' : 32, 'Yogg Nerf' : 34,\n",
    "                       'Gadgetzan' : 36, 'Aggro Downfall' : 38\n",
    "                      }"
   ]
  },
  {
   "cell_type": "code",
   "execution_count": null,
   "metadata": {},
   "outputs": [],
   "source": [
    "deck_set_event_pop = {#'Beta Release', 'Beta Patch 3664', 'Beta Patch 3749', 'Beta Patch 3937',\n",
    "                       #'Beta Patch 4217', 'Beta Patch 4243', 'Beta Patch 4482', 'Beta Patch 4944',\n",
    "                       #'Live Patch 4973', 'Live Patch 5170', 'Live Patch 5435', \n",
    "                       'Live Patch 5506' : 3611,\n",
    "                       'Naxx Launch' : 11223, 'GvG Prelaunch' : 673, 'GvG Launch' : 8067, 'Undertaker Nerf' : 6177, \n",
    "                       'Blackrock Launch' : 20048, 'TGT Launch' : 13803, 'Warsong Nerf' : 3893, 'Explorers' : 29212, \n",
    "                       'Classic Nerfs' : 1588, 'Old Gods' : 26798, 'Karazhan' : 12524, 'Yogg Nerf' : 15540,\n",
    "                       'Gadgetzan' : 23135, 'Aggro Downfall' : 4254\n",
    "                      }"
   ]
  },
  {
   "cell_type": "code",
   "execution_count": null,
   "metadata": {},
   "outputs": [],
   "source": [
    "deck_set_event_dict_invert = {}\n",
    "for key, value in deck_set_event_dict.items():\n",
    "     deck_set_event_dict_invert[value] = key"
   ]
  },
  {
   "cell_type": "code",
   "execution_count": null,
   "metadata": {},
   "outputs": [],
   "source": [
    "uploads_df = pd.DataFrame(deck_set_event_dict_invert, index=np.arange(0, 2))"
   ]
  },
  {
   "cell_type": "code",
   "execution_count": null,
   "metadata": {},
   "outputs": [],
   "source": [
    "for num in range(1, 40):\n",
    "    if num not in uploads_df.columns:\n",
    "        uploads_df[num] = None"
   ]
  },
  {
   "cell_type": "code",
   "execution_count": null,
   "metadata": {},
   "outputs": [],
   "source": [
    "for num in range(0, 38):\n",
    "    uploads_df.loc[1, num+1] = arr_all[num]"
   ]
  },
  {
   "cell_type": "code",
   "execution_count": null,
   "metadata": {},
   "outputs": [],
   "source": [
    "uploads_df.fillna(0, inplace=True)"
   ]
  },
  {
   "cell_type": "code",
   "execution_count": null,
   "metadata": {},
   "outputs": [],
   "source": [
    "num_months = np.arange(1, 40)\n",
    "point_ls = []\n",
    "fig, ax = plt.subplots(figsize=(12, 6))\n",
    "for num in range(1, 40):\n",
    "    point_ls.append(uploads_df.loc[1, num])\n",
    "ax.bar(num_months, point_ls)\n",
    "ax.set_xticks(np.arange(1, 40))\n",
    "ax.set_xticklabels(num_months, rotation=25)\n",
    "ax.set_title('Lifetime uploads')\n",
    "ax.set_ylim(0, 14500)"
   ]
  },
  {
   "cell_type": "code",
   "execution_count": null,
   "metadata": {},
   "outputs": [],
   "source": [
    "patch_full_ls = []\n",
    "for col in uploads_df.columns.sort_values():\n",
    "    if uploads_df.loc[0, col] == 0:\n",
    "        patch_full_ls.append(0)\n",
    "    else:\n",
    "        patch_full_ls.append(uploads_df.loc[0, col])"
   ]
  },
  {
   "cell_type": "code",
   "execution_count": null,
   "metadata": {},
   "outputs": [],
   "source": [
    "for i in range(len(patch_full_ls)):\n",
    "    if patch_full_ls[i] != 0:\n",
    "        patch_full_ls[i] = deck_set_event_pop[patch_full_ls[i]]"
   ]
  },
  {
   "cell_type": "code",
   "execution_count": null,
   "metadata": {},
   "outputs": [],
   "source": [
    "num_months = list(np.arange(1, 40))\n",
    "num_months_num = list(np.arange(1, 40))"
   ]
  },
  {
   "cell_type": "code",
   "execution_count": null,
   "metadata": {},
   "outputs": [],
   "source": [
    "for key in deck_set_event_dict_invert.keys():\n",
    "    num_months[key-1] = deck_set_event_dict_invert[key]"
   ]
  },
  {
   "cell_type": "code",
   "execution_count": null,
   "metadata": {},
   "outputs": [],
   "source": [
    "num_months[10] = 0\n",
    "num_months[27] = 0\n",
    "num_months[21] = 0"
   ]
  },
  {
   "cell_type": "code",
   "execution_count": null,
   "metadata": {},
   "outputs": [],
   "source": [
    "fig, ax = plt.subplots(figsize=(12, 6))\n",
    "\n",
    "\n",
    "ax.bar(num_months_num, patch_full_ls)\n",
    "ax.bar(num_months_num, point_ls)\n",
    "ax.set_xticks(np.arange(1, 40))\n",
    "ax.set_xticklabels(month_names, rotation=90)\n",
    "ax.set_title('Deck Uploads per Month vs. Patch')\n",
    "ax.set_ylim(0, 30000)\n",
    "ax.axvline(0.75)\n",
    "ax.axvline(12.5)\n",
    "ax.axvline(24.5)\n",
    "ax.axvline(36.5)\n",
    "ax.text(0.75, 26000, \"   2014\")\n",
    "ax.text(12.5, 26000, \"   2015\")\n",
    "ax.text(24.5, 26000, \"   2016\")\n",
    "ax.text(36.5, 26000, \"   2017\")\n",
    "\n",
    "rects = ax.patches\n",
    "\n",
    "labels = num_months\n",
    "for rect, label in zip(rects, labels):\n",
    "    height = rect.get_height()\n",
    "    if type(label) == str:\n",
    "        if label == \"Aggro Downfall\":\n",
    "            ax.text(rect.get_x() + rect.get_width() / 2, height + 525, label, ha='center', va='bottom', weight='bold')\n",
    "        else:\n",
    "            ax.text(rect.get_x() + rect.get_width() / 2, height + 5, label, ha='center', va='bottom', weight='bold')\n",
    "plt.tight_layout()\n",
    "plt.savefig('img/month_versus_patch.png')"
   ]
  },
  {
   "cell_type": "code",
   "execution_count": null,
   "metadata": {},
   "outputs": [],
   "source": [
    "broken_ids = {836.0: 836.0, 137.0: 836.0, 253.0: 836.0,\n",
    " 1681.0: 692.0, 38319.0: 692.0, 1682.0: 692.0, 692.0: 692.0,\n",
    " 19292.0: 1929.0, 38710.0: 1929.0, 1929.0: 1929.0,\n",
    " 2466.0: 2261.0, 2380.0: 2261.0, 41609.0: 2261.0, 2430.0: 2261.0,\n",
    " 45369.0: 2261.0, 2652.0: 2261.0, 2558.0: 2261.0, 40259.0: 2261.0, 2261.0: 2261.0,\n",
    " 13335.0: 13335.0, 38112.0: 13335.0, 38113.0: 13335.0,\n",
    " 86.0: 86.0, 1161.0: 86.0, 928.0: 86.0,\n",
    " 41408.0: 40372.0, 40372.0: 40372.0, 41409.0: 40372.0,\n",
    " 2292.0: 2292.0, 2311.0: 2292.0, 38320.0: 2292.0, 2310.0: 2292.0,\n",
    " 40402.0: 38266.0, 38266.0: 38266.0,\n",
    " 42146.0: 40953.0, 40953.0: 40953.0, 42213.0: 40953.0,\n",
    " 40341.0: 940.0, 40352.0: 940.0, 940.0: 940.0,\n",
    " 690.0: 151.0, 276.0: 151.0, 322.0: 151.0, 468.0: 151.0, 151.0: 151.0,\n",
    " 2048.0: 2048.0, 2230.0: 2048.0,\n",
    " 179.0: 179.0, 38653.0: 179.0,\n",
    " 2178.0: 2009.0, 2009.0: 2009.0, 2177.0: 2009.0, 2176.0: 2009.0}"
   ]
  },
  {
   "cell_type": "code",
   "execution_count": null,
   "metadata": {},
   "outputs": [],
   "source": [
    "standard_decks = ranked_decks[ranked_decks['deck_format'] == 'S']"
   ]
  },
  {
   "cell_type": "code",
   "execution_count": null,
   "metadata": {},
   "outputs": [],
   "source": [
    "card_appearance_dict = {}\n",
    "prev_id = 0\n",
    "for tup in standard_decks['card_list']:\n",
    "    for dbfid in tup:\n",
    "        if dbfid != prev_id:\n",
    "            if dbfid in broken_ids.keys():\n",
    "                dbfid = broken_ids[dbfid]\n",
    "            if dbfid not in card_appearance_dict.keys():\n",
    "                card_appearance_dict[dbfid] = 1\n",
    "            else:\n",
    "                card_appearance_dict[dbfid] += 1\n",
    "        prev_id = dbfid"
   ]
  },
  {
   "cell_type": "code",
   "execution_count": null,
   "metadata": {},
   "outputs": [],
   "source": [
    "wild_card_appearance_dict = {}\n",
    "prev_id = 0\n",
    "for tup in ranked_decks['card_list']:\n",
    "    for dbfid in tup:\n",
    "        if dbfid != prev_id:\n",
    "            if dbfid in broken_ids.keys():\n",
    "                dbfid = broken_ids[dbfid]\n",
    "            if dbfid not in wild_card_appearance_dict.keys():\n",
    "                wild_card_appearance_dict[dbfid] = 1\n",
    "            else:\n",
    "                wild_card_appearance_dict[dbfid] += 1\n",
    "        prev_id = dbfid"
   ]
  },
  {
   "cell_type": "code",
   "execution_count": null,
   "metadata": {},
   "outputs": [],
   "source": [
    "wild_card_tup_ls = [(dbfid, count) for dbfid, count in wild_card_appearance_dict.items()]"
   ]
  },
  {
   "cell_type": "code",
   "execution_count": null,
   "metadata": {},
   "outputs": [],
   "source": [
    "card_tup_ls = [(dbfid, count) for dbfid, count in card_appearance_dict.items()]"
   ]
  },
  {
   "cell_type": "code",
   "execution_count": null,
   "metadata": {},
   "outputs": [],
   "source": [
    "sorted_standard = sorted(card_appearance_dict.items(), key=lambda kv: kv[1], reverse=True)"
   ]
  },
  {
   "cell_type": "code",
   "execution_count": null,
   "metadata": {},
   "outputs": [],
   "source": [
    "sorted_wild = sorted(wild_card_appearance_dict.items(), key=lambda kv: kv[1], reverse=True)"
   ]
  },
  {
   "cell_type": "code",
   "execution_count": null,
   "metadata": {},
   "outputs": [],
   "source": [
    "standard_x = [json_df[json_df['dbfId'] == x[0]]['name'].any() for x in sorted_standard[:50]]\n",
    "standard_y = [x[1] for x in sorted_standard[:50]]"
   ]
  },
  {
   "cell_type": "code",
   "execution_count": null,
   "metadata": {},
   "outputs": [],
   "source": [
    "fig, ax = plt.subplots(figsize=(25, 10))\n",
    "\n",
    "ax.bar(np.arange(0, len(standard_x)), standard_y)\n",
    "ax.set_xticks(np.arange(0, len(standard_x)))\n",
    "ax.set_xticklabels(standard_x, rotation=90)\n",
    "ax.set_title('Top 50 Cards in Standard')\n",
    "ax.set_ylim(0, 37500)\n",
    "rects = ax.patches\n",
    "labels = standard_x\n",
    "for rect, label in zip(rects, labels):\n",
    "    card_class = json_df[json_df['name'] == label]['cardClass'].any()\n",
    "    rect.set_color(class_colors[card_class.lower().capitalize()])\n",
    "plt.tight_layout()\n",
    "plt.savefig(\"img/standard_card_representation_total\")"
   ]
  },
  {
   "cell_type": "code",
   "execution_count": null,
   "metadata": {},
   "outputs": [],
   "source": [
    "decks_s = standard_decks.shape[0]\n",
    "standard_y_perc = [x/decks_s for x in standard_y]"
   ]
  },
  {
   "cell_type": "code",
   "execution_count": null,
   "metadata": {},
   "outputs": [],
   "source": [
    "fig, ax = plt.subplots(figsize=(25, 10))\n",
    "\n",
    "ax.bar(np.arange(0, len(standard_x)), standard_y_perc)\n",
    "ax.set_xticks(np.arange(0, len(standard_x)))\n",
    "ax.set_xticklabels(standard_x, rotation=90)\n",
    "ax.set_title('Top 50 Card Representation in Standard')\n",
    "rects = ax.patches\n",
    "labels = standard_x\n",
    "for rect, label in zip(rects, labels):\n",
    "    card_class = json_df[json_df['name'] == label]['cardClass'].any()\n",
    "    rect.set_color(class_colors[card_class.lower().capitalize()])\n",
    "plt.tight_layout()\n",
    "plt.savefig(\"img/standard_card_representation\")"
   ]
  },
  {
   "cell_type": "code",
   "execution_count": null,
   "metadata": {},
   "outputs": [],
   "source": [
    "wild_x = [json_df[json_df['dbfId'] == x[0]]['name'].any() for x in sorted_wild[:50]]\n",
    "wild_y = [x[1] for x in sorted_wild[:50]]"
   ]
  },
  {
   "cell_type": "code",
   "execution_count": null,
   "metadata": {},
   "outputs": [],
   "source": [
    "fig, ax = plt.subplots(figsize=(25, 10))\n",
    "\n",
    "ax.bar(np.arange(0, len(wild_x)), wild_y)\n",
    "ax.set_xticks(np.arange(0, len(wild_x)))\n",
    "ax.set_xticklabels(wild_x, rotation=90)\n",
    "ax.set_title('Top 50 Cards in Wild')\n",
    "ax.set_ylim(0, 60000)\n",
    "rects = ax.patches\n",
    "labels = wild_x\n",
    "for rect, label in zip(rects, labels):\n",
    "    card_class = json_df[json_df['name'] == label]['cardClass'].any()\n",
    "    rect.set_color(class_colors[card_class.lower().capitalize()])\n",
    "plt.tight_layout()\n",
    "plt.savefig(\"img/wild_card_representation_total\")"
   ]
  },
  {
   "cell_type": "code",
   "execution_count": null,
   "metadata": {},
   "outputs": [],
   "source": [
    "decks_w = ranked_decks.shape[0]\n",
    "wild_y_perc = [x/decks_w for x in wild_y]"
   ]
  },
  {
   "cell_type": "code",
   "execution_count": null,
   "metadata": {},
   "outputs": [],
   "source": [
    "fig, ax = plt.subplots(figsize=(25, 10))\n",
    "\n",
    "ax.bar(np.arange(0, len(wild_x)), wild_y_perc)\n",
    "ax.set_xticks(np.arange(0, len(wild_x)))\n",
    "ax.set_xticklabels(wild_x, rotation=90)\n",
    "ax.set_title('Top 50 Card Representation in Wild')\n",
    "\n",
    "rects = ax.patches\n",
    "labels = wild_x\n",
    "for rect, label in zip(rects, labels):\n",
    "    card_class = json_df[json_df['name'] == label]['cardClass'].any()\n",
    "    rect.set_color(class_colors[card_class.lower().capitalize()])\n",
    "plt.tight_layout()\n",
    "plt.savefig(\"img/wild_card_representation\")"
   ]
  },
  {
   "cell_type": "code",
   "execution_count": null,
   "metadata": {},
   "outputs": [],
   "source": [
    "def get_class_top_10(cls_str='Neutral', mode = 'W'):\n",
    "    class_df = ranked_decks[ranked_decks['deck_class'] == cls_str.lower().capitalize()]\n",
    "    cls_appearance_dict = {}\n",
    "    prev_id = 0\n",
    "    for tup in class_df['card_list']:\n",
    "        for dbfid in tup:\n",
    "            if dbfid != prev_id:\n",
    "                if dbfid in broken_ids.keys():\n",
    "                    dbfid = broken_ids[dbfid]\n",
    "                if dbfid not in cls_appearance_dict.keys():\n",
    "                    cls_appearance_dict[dbfid] = 1\n",
    "                else:\n",
    "                    cls_appearance_dict[dbfid] += 1\n",
    "            prev_id = dbfid\n",
    "    sorted_class = sorted(cls_appearance_dict.items(), key=lambda kv: kv[1], reverse=True)\n",
    "    decks = class_df.shape[0]\n",
    "    class_x = [json_df[json_df['dbfId'] == x[0]]['name'].any() for x in sorted_class[:10]]\n",
    "    class_y = [x[1]/decks for x in sorted_class[:10]]\n",
    "    return class_x, class_y"
   ]
  },
  {
   "cell_type": "code",
   "execution_count": null,
   "metadata": {},
   "outputs": [],
   "source": [
    "fig, axs = plt.subplots(3, 3, figsize=(30, 30))\n",
    "\n",
    "for idx, ax in enumerate(axs.flatten()):\n",
    "    cls = class_names[idx]\n",
    "    cls_x, cls_y = get_class_top_10(cls)\n",
    "    ax.bar(np.arange(0, len(cls_x)), cls_y)\n",
    "    ax.set_xticks(np.arange(0, len(cls_x)))\n",
    "    ax.set_xticklabels(cls_x, rotation=90)\n",
    "    ax.set_title(cls)\n",
    "    rects = ax.patches\n",
    "    labels = cls_x\n",
    "    for rect, label in zip(rects, labels):\n",
    "        card_class = json_df[json_df['name'] == label]['cardClass'].any()\n",
    "        rect.set_color(class_colors[card_class.lower().capitalize()])\n",
    "plt.tight_layout()\n",
    "plt.savefig(\"img/class_card_representation\")"
   ]
  }
 ],
 "metadata": {
  "kernelspec": {
   "display_name": "Python 3",
   "language": "python",
   "name": "python3"
  },
  "language_info": {
   "codemirror_mode": {
    "name": "ipython",
    "version": 3
   },
   "file_extension": ".py",
   "mimetype": "text/x-python",
   "name": "python",
   "nbconvert_exporter": "python",
   "pygments_lexer": "ipython3",
   "version": "3.7.3"
  }
 },
 "nbformat": 4,
 "nbformat_minor": 2
}
